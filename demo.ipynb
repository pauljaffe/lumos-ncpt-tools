{
 "cells": [
  {
   "cell_type": "code",
   "execution_count": null,
   "metadata": {},
   "outputs": [],
   "source": [
    "import sys\n",
    "sys.path.append('/mnt/efs/home/paul/lumos-ncpt-tools') # REMOVE!\n",
    "from lumos_ncpt_tools import NCPT, load_data\n",
    "import numpy as np\n",
    "import pandas as pd"
   ]
  },
  {
   "cell_type": "markdown",
   "metadata": {},
   "source": [
    "# Demo functionality of the lumos-ncpt-tools module\n",
    "### TODO: Check to see if data can be loaded on standard computer... \n",
    "\n",
    "### 1) Load up some data! \n",
    "- Instantiate a NCPT class object <br>\n",
    "- Display some info about the battery data <br>\n",
    "- Display info about the subtests in the battery <br>\n",
    "\n",
    "### 2) Process and plot the scores \n",
    "- Check for outlier scores <br>\n",
    "- Lookup normalized scores and the Grand Index (a composite score) <br>\n",
    "    - Lookup both types of normalized score? <br>\n",
    "- Plot the normalized scores vs. age <br>\n",
    "\n",
    "### 3) Miscellaneous \n",
    "- Filter out users who did not complete the test battery <br>\n",
    "- Show the meaning of the education levels <br>\n",
    "- Save the filtered dataset <br>"
   ]
  },
  {
   "cell_type": "markdown",
   "metadata": {},
   "source": [
    "### Load up some data"
   ]
  },
  {
   "cell_type": "code",
   "execution_count": null,
   "metadata": {},
   "outputs": [],
   "source": [
    "# Load data\n",
    "data_directory = 'CHANGE/TO/DATA/DIRECTORY' \n",
    "data_fn = 'CHANGE/TO/DATA/FILENAME' \n",
    "df = load_data(data_path, raw_fn)\n",
    "\n",
    "# Instantiate a NCPT object, get some basic info\n",
    "ncpt = NCPT(df)\n",
    "del df\n",
    "ncpt.report_stats()\n",
    "\n",
    "# Keep only the tests from a specific test battery\n",
    "# TODO: Incomplete\n",
    "keep_battery = 39"
   ]
  }
 ],
 "metadata": {
  "kernelspec": {
   "display_name": "Python 3 (ipykernel)",
   "language": "python",
   "name": "python3"
  },
  "language_info": {
   "codemirror_mode": {
    "name": "ipython",
    "version": 3
   },
   "file_extension": ".py",
   "mimetype": "text/x-python",
   "name": "python",
   "nbconvert_exporter": "python",
   "pygments_lexer": "ipython3",
   "version": "3.9.7"
  }
 },
 "nbformat": 4,
 "nbformat_minor": 2
}
