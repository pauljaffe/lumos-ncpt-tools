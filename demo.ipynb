{
 "cells": [
  {
   "cell_type": "markdown",
   "metadata": {},
   "source": [
    "# Demo some of the functionality of lumos-ncpt-tools\n",
    "\n",
    "### 1) Load up some data! \n",
    "- Instantiate a NCPT class object with data from one test battery\n",
    "    - The demo data is all data from NCPT battery 26\n",
    "- Display some summary info on the dataset and subtests\n",
    "\n",
    "### 2) Process and plot the scores \n",
    "- Filter out outlier raw scores\n",
    "- Plot the raw score distributions before and after outlier removal\n",
    "- Lookup normalized scores using the demographics-reweighted rank INT method\n",
    "    - Plot the normalized scores and the Grand Index (composite score)\n",
    "- Plot the Grand Index vs. age\n",
    "\n",
    "### 3) Miscellaneous \n",
    "- Show the meaning of the numeric education levels \n",
    "- Filter out participants who did not complete the test battery"
   ]
  },
  {
   "cell_type": "code",
   "execution_count": 1,
   "metadata": {},
   "outputs": [],
   "source": [
    "import numpy as np\n",
    "import pandas as pd\n",
    "import seaborn as sns\n",
    "import matplotlib.pyplot as plt\n",
    "\n",
    "from lumos_ncpt_tools.ncpt import NCPT\n",
    "from lumos_ncpt_tools.utils import load_data"
   ]
  },
  {
   "cell_type": "markdown",
   "metadata": {},
   "source": [
    "## 1) Load up some data"
   ]
  },
  {
   "cell_type": "code",
   "execution_count": 2,
   "metadata": {},
   "outputs": [
    {
     "name": "stdout",
     "output_type": "stream",
     "text": [
      "Data summary\n",
      "------------\n",
      "N users: 2400\n",
      "N tests: 2400\n",
      "N subtests: 23689\n",
      "DataFrame columns: ['user_id', 'age', 'gender', 'education_level', 'country', 'test_run_id', 'battery_id', 'specific_subtest_id', 'raw_score', 'rank_INT_normed_score', 'grand_index']\n",
      "\n",
      "Subtest information\n",
      "-------------------\n",
      "Subtest ID 27: Divided visual attention, v1, N scores = 2040\n",
      "Subtest ID 28: Forward memory span, v1, N scores = 2218\n",
      "Subtest ID 29: Arithmetic reasoning, v1, N scores = 2272\n",
      "Subtest ID 30: Grammatical reasoning, v1, N scores = 2091\n",
      "Subtest ID 32: Go/no-go, v2, N scores = 2026\n",
      "Subtest ID 33: Reverse memory span, v1, N scores = 2121\n",
      "Subtest ID 36: Verbal list learning, v1, N scores = 2400\n",
      "Subtest ID 37: Delayed verbal list learning, v1, N scores = 1905\n",
      "Subtest ID 38: Digit symbol coding, v1, N scores = 1995\n",
      "Subtest ID 39: Trail making part A, v1, N scores = 2326\n",
      "Subtest ID 40: Trail making part B, v1, N scores = 2295\n",
      "\n"
     ]
    },
    {
     "data": {
      "text/html": [
       "<div>\n",
       "<style scoped>\n",
       "    .dataframe tbody tr th:only-of-type {\n",
       "        vertical-align: middle;\n",
       "    }\n",
       "\n",
       "    .dataframe tbody tr th {\n",
       "        vertical-align: top;\n",
       "    }\n",
       "\n",
       "    .dataframe thead th {\n",
       "        text-align: right;\n",
       "    }\n",
       "</style>\n",
       "<table border=\"1\" class=\"dataframe\">\n",
       "  <thead>\n",
       "    <tr style=\"text-align: right;\">\n",
       "      <th></th>\n",
       "      <th>user_id</th>\n",
       "      <th>age</th>\n",
       "      <th>gender</th>\n",
       "      <th>education_level</th>\n",
       "      <th>country</th>\n",
       "      <th>test_run_id</th>\n",
       "      <th>battery_id</th>\n",
       "      <th>specific_subtest_id</th>\n",
       "      <th>raw_score</th>\n",
       "      <th>rank_INT_normed_score</th>\n",
       "      <th>grand_index</th>\n",
       "    </tr>\n",
       "  </thead>\n",
       "  <tbody>\n",
       "    <tr>\n",
       "      <th>0</th>\n",
       "      <td>22</td>\n",
       "      <td>64.0</td>\n",
       "      <td>m</td>\n",
       "      <td>6.0</td>\n",
       "      <td>US</td>\n",
       "      <td>870660</td>\n",
       "      <td>26</td>\n",
       "      <td>36</td>\n",
       "      <td>6.0</td>\n",
       "      <td>74.538593</td>\n",
       "      <td>81.741969</td>\n",
       "    </tr>\n",
       "    <tr>\n",
       "      <th>1</th>\n",
       "      <td>22</td>\n",
       "      <td>64.0</td>\n",
       "      <td>m</td>\n",
       "      <td>6.0</td>\n",
       "      <td>US</td>\n",
       "      <td>870660</td>\n",
       "      <td>26</td>\n",
       "      <td>39</td>\n",
       "      <td>24.0</td>\n",
       "      <td>97.004916</td>\n",
       "      <td>81.741969</td>\n",
       "    </tr>\n",
       "    <tr>\n",
       "      <th>2</th>\n",
       "      <td>22</td>\n",
       "      <td>64.0</td>\n",
       "      <td>m</td>\n",
       "      <td>6.0</td>\n",
       "      <td>US</td>\n",
       "      <td>870660</td>\n",
       "      <td>26</td>\n",
       "      <td>40</td>\n",
       "      <td>38.0</td>\n",
       "      <td>99.313917</td>\n",
       "      <td>81.741969</td>\n",
       "    </tr>\n",
       "    <tr>\n",
       "      <th>3</th>\n",
       "      <td>22</td>\n",
       "      <td>64.0</td>\n",
       "      <td>m</td>\n",
       "      <td>6.0</td>\n",
       "      <td>US</td>\n",
       "      <td>870660</td>\n",
       "      <td>26</td>\n",
       "      <td>29</td>\n",
       "      <td>17.0</td>\n",
       "      <td>108.619013</td>\n",
       "      <td>81.741969</td>\n",
       "    </tr>\n",
       "    <tr>\n",
       "      <th>4</th>\n",
       "      <td>22</td>\n",
       "      <td>64.0</td>\n",
       "      <td>m</td>\n",
       "      <td>6.0</td>\n",
       "      <td>US</td>\n",
       "      <td>870660</td>\n",
       "      <td>26</td>\n",
       "      <td>28</td>\n",
       "      <td>4.0</td>\n",
       "      <td>81.084936</td>\n",
       "      <td>81.741969</td>\n",
       "    </tr>\n",
       "    <tr>\n",
       "      <th>5</th>\n",
       "      <td>22</td>\n",
       "      <td>64.0</td>\n",
       "      <td>m</td>\n",
       "      <td>6.0</td>\n",
       "      <td>US</td>\n",
       "      <td>870660</td>\n",
       "      <td>26</td>\n",
       "      <td>33</td>\n",
       "      <td>4.0</td>\n",
       "      <td>87.577690</td>\n",
       "      <td>81.741969</td>\n",
       "    </tr>\n",
       "    <tr>\n",
       "      <th>6</th>\n",
       "      <td>22</td>\n",
       "      <td>64.0</td>\n",
       "      <td>m</td>\n",
       "      <td>6.0</td>\n",
       "      <td>US</td>\n",
       "      <td>870660</td>\n",
       "      <td>26</td>\n",
       "      <td>30</td>\n",
       "      <td>9.0</td>\n",
       "      <td>103.617620</td>\n",
       "      <td>81.741969</td>\n",
       "    </tr>\n",
       "    <tr>\n",
       "      <th>7</th>\n",
       "      <td>22</td>\n",
       "      <td>64.0</td>\n",
       "      <td>m</td>\n",
       "      <td>6.0</td>\n",
       "      <td>US</td>\n",
       "      <td>870660</td>\n",
       "      <td>26</td>\n",
       "      <td>27</td>\n",
       "      <td>7.0</td>\n",
       "      <td>83.386703</td>\n",
       "      <td>81.741969</td>\n",
       "    </tr>\n",
       "    <tr>\n",
       "      <th>8</th>\n",
       "      <td>22</td>\n",
       "      <td>64.0</td>\n",
       "      <td>m</td>\n",
       "      <td>6.0</td>\n",
       "      <td>US</td>\n",
       "      <td>870660</td>\n",
       "      <td>26</td>\n",
       "      <td>32</td>\n",
       "      <td>628.0</td>\n",
       "      <td>73.831362</td>\n",
       "      <td>81.741969</td>\n",
       "    </tr>\n",
       "    <tr>\n",
       "      <th>9</th>\n",
       "      <td>22</td>\n",
       "      <td>64.0</td>\n",
       "      <td>m</td>\n",
       "      <td>6.0</td>\n",
       "      <td>US</td>\n",
       "      <td>870660</td>\n",
       "      <td>26</td>\n",
       "      <td>38</td>\n",
       "      <td>36.0</td>\n",
       "      <td>88.305098</td>\n",
       "      <td>81.741969</td>\n",
       "    </tr>\n",
       "  </tbody>\n",
       "</table>\n",
       "</div>"
      ],
      "text/plain": [
       "   user_id   age gender  education_level country  test_run_id  battery_id  \\\n",
       "0       22  64.0      m              6.0      US       870660          26   \n",
       "1       22  64.0      m              6.0      US       870660          26   \n",
       "2       22  64.0      m              6.0      US       870660          26   \n",
       "3       22  64.0      m              6.0      US       870660          26   \n",
       "4       22  64.0      m              6.0      US       870660          26   \n",
       "5       22  64.0      m              6.0      US       870660          26   \n",
       "6       22  64.0      m              6.0      US       870660          26   \n",
       "7       22  64.0      m              6.0      US       870660          26   \n",
       "8       22  64.0      m              6.0      US       870660          26   \n",
       "9       22  64.0      m              6.0      US       870660          26   \n",
       "\n",
       "   specific_subtest_id  raw_score  rank_INT_normed_score  grand_index  \n",
       "0                   36        6.0              74.538593    81.741969  \n",
       "1                   39       24.0              97.004916    81.741969  \n",
       "2                   40       38.0              99.313917    81.741969  \n",
       "3                   29       17.0             108.619013    81.741969  \n",
       "4                   28        4.0              81.084936    81.741969  \n",
       "5                   33        4.0              87.577690    81.741969  \n",
       "6                   30        9.0             103.617620    81.741969  \n",
       "7                   27        7.0              83.386703    81.741969  \n",
       "8                   32      628.0              73.831362    81.741969  \n",
       "9                   38       36.0              88.305098    81.741969  "
      ]
     },
     "execution_count": 2,
     "metadata": {},
     "output_type": "execute_result"
    }
   ],
   "source": [
    "# Load all of the data from one NCPT battery (demo_data.csv = battery 26)\n",
    "data_directory = './'\n",
    "data_fn = 'demo_data.csv'\n",
    "df = load_data(data_directory, data_fn)\n",
    "\n",
    "# Instantiate a NCPT object, display some basic info\n",
    "ncpt = NCPT(df)\n",
    "del df\n",
    "ncpt.report_stats()\n",
    "ncpt.get_subtest_info()\n",
    "ncpt.df.head(10)"
   ]
  },
  {
   "cell_type": "markdown",
   "metadata": {},
   "source": [
    "## 2) Process and plot the scores"
   ]
  },
  {
   "cell_type": "markdown",
   "metadata": {},
   "source": [
    "### Check for outliers"
   ]
  },
  {
   "cell_type": "code",
   "execution_count": 11,
   "metadata": {},
   "outputs": [
    {
     "name": "stdout",
     "output_type": "stream",
     "text": [
      "Subtest ID 33: N outliers = 1\n"
     ]
    },
    {
     "data": {
      "image/png": "[encoded data removed]",
      "text/plain": [
       "<Figure size 864x864 with 2 Axes>"
      ]
     },
     "metadata": {
      "needs_background": "light"
     },
     "output_type": "display_data"
    }
   ],
   "source": [
    "# Remove outlier raw scores using the median absolute deviation (MAD) method\n",
    "# Note: Depending on the intended application, this may or may not be a sensible thing to do.\n",
    "outlier_threshold = 5 # fairly conservative threshold\n",
    "outlier_method = 'MAD'\n",
    "n_bins = 10\n",
    "outlier_subtests = [33] # Reverse memory span v1\n",
    "zoom_ylim = [0, 20]\n",
    "filt_df = ncpt.filter_outliers_by_subtest('raw_score', outlier_threshold, \n",
    "                                          outlier_subtests, method=outlier_method)\n",
    "\n",
    "# Plot the raw score distributions before and after outlier removal\n",
    "for sub in outlier_subtests:\n",
    "    orig_sub_df = ncpt.df.query('specific_subtest_id == @sub')\n",
    "    orig_sub_df = orig_sub_df.assign(outlier_status='Original')\n",
    "    filt_sub_df = filt_df.query('specific_subtest_id == @sub')\n",
    "    filt_sub_df = filt_sub_df.assign(outlier_status='No outliers')\n",
    "    plot_df = pd.concat([orig_sub_df, filt_sub_df])\n",
    "    plot_df.reset_index(drop=True, inplace=True)\n",
    "    fig, axes = plt.subplots(2, 1, figsize=(12, 12))\n",
    "    for ax_ind, ax in enumerate(axes):\n",
    "        sns.histplot(plot_df, x='raw_score', hue='outlier_status', multiple='dodge', \n",
    "                     ax=ax)\n",
    "        ax.set_xlabel('Raw score')\n",
    "        ax.set_ylabel('Count')\n",
    "        if ax_ind == 1:\n",
    "            ax.set_ylim(zoom_ylim)\n",
    "            ax.set_title(f'Subtest {sub} zoom')\n",
    "        else:\n",
    "            ax.set_title(f'Subtest {sub}')\n",
    "    plt.show()\n"
   ]
  },
  {
   "cell_type": "markdown",
   "metadata": {},
   "source": [
    "### Look up normalized scores"
   ]
  },
  {
   "cell_type": "code",
   "execution_count": 13,
   "metadata": {},
   "outputs": [
    {
     "name": "stdout",
     "output_type": "stream",
     "text": [
      "Looking up norms...\n",
      "Done! Added normalized scores in column census_rank_INT_normed_score\n",
      "---------------------------\n",
      "Subtest 29\n",
      "Mean of normed scores: 106.54855512037726\n",
      "Std. dev. of normed scores: 14.890089964627961\n"
     ]
    },
    {
     "data": {
      "image/png": "[encoded data removed]",
      "text/plain": [
       "<Figure size 432x432 with 1 Axes>"
      ]
     },
     "metadata": {
      "needs_background": "light"
     },
     "output_type": "display_data"
    },
    {
     "data": {
      "image/png": "[encoded data removed]",
      "text/plain": [
       "<Figure size 432x432 with 1 Axes>"
      ]
     },
     "metadata": {
      "needs_background": "light"
     },
     "output_type": "display_data"
    },
    {
     "name": "stdout",
     "output_type": "stream",
     "text": [
      "Mean Grand Index: 106.51891063021091\n",
      "Std. dev. of Grand Index: 13.968754068310265\n"
     ]
    }
   ],
   "source": [
    "# Lookup normalized scores using the 'census_rank_INT' method (see paper for details)\n",
    "# Note that by default, scores normalized using the 'rank_INT' method are included in the dataset by default (not shown)\n",
    "# Also plot the grand index\n",
    "norm_method = 'census_rank_INT'\n",
    "score_col = f'{norm_method}_normed_score'\n",
    "subtests_to_plot = [29]\n",
    "\n",
    "ncpt.lookup_normed_scores(norm_method)\n",
    "print('---------------------------')\n",
    "\n",
    "# Plot the normalized score distributions\n",
    "subtests = ncpt.df['specific_subtest_id'].unique()\n",
    "for sub in subtests_to_plot:\n",
    "    sub_df = ncpt.df.query('specific_subtest_id == @sub')\n",
    "    print(f'Subtest {sub}')\n",
    "    print(f\"Mean of normed scores: {sub_df[score_col].mean()}\")\n",
    "    print(f\"Std. dev. of normed scores: {sub_df[score_col].std()}\")\n",
    "    fig, axes = plt.subplots(1, 1, figsize=(6, 6))\n",
    "    sns.histplot(sub_df[score_col], color='b', kde=False, ax=axes)\n",
    "    axes.set_title(f'Subtest {sub}')\n",
    "    plt.show()\n",
    "                 \n",
    "# Plot the distribution of the Grand Index\n",
    "GI_df = ncpt.df.drop_duplicates(subset=['test_run_id'])\n",
    "fig, axes = plt.subplots(1, 1, figsize=(6, 6))\n",
    "sns.histplot(GI_df['grand_index'], color='b', kde=False, ax=axes)\n",
    "axes.set_title('Grand Index')\n",
    "plt.show()\n",
    "\n",
    "# Stats\n",
    "print(f\"Mean Grand Index: {GI_df['grand_index'].mean()}\")\n",
    "print(f\"Std. dev. of Grand Index: {GI_df['grand_index'].std()}\")"
   ]
  },
  {
   "cell_type": "markdown",
   "metadata": {},
   "source": [
    "### Plot the Grand Index vs. age\n",
    "- Red line is best linear fit"
   ]
  },
  {
   "cell_type": "code",
   "execution_count": 14,
   "metadata": {},
   "outputs": [
    {
     "data": {
      "image/png": "[encoded data removed]",
      "text/plain": [
       "<Figure size 576x576 with 1 Axes>"
      ]
     },
     "metadata": {
      "needs_background": "light"
     },
     "output_type": "display_data"
    }
   ],
   "source": [
    "fig, axes = plt.subplots(1, 1, figsize=(8, 8))\n",
    "fontsize = 12\n",
    "sns.regplot(x='age', y='grand_index', data=GI_df, ax=axes, marker='.', \n",
    "            scatter_kws={'s': 10}, line_kws={'color': 'r'})\n",
    "axes.set_xlabel('Age (years)', fontsize=fontsize)\n",
    "axes.set_ylabel('Grand Index', fontsize=fontsize)\n",
    "axes.set_xticks([20, 30, 40, 50, 60, 70, 80, 90])\n",
    "axes.set_xticklabels(['20', '30', '40', '50', '60', '70', '80', '90+'])\n",
    "plt.show()"
   ]
  },
  {
   "cell_type": "markdown",
   "metadata": {},
   "source": [
    "## 3) Miscellaneous"
   ]
  },
  {
   "cell_type": "code",
   "execution_count": 15,
   "metadata": {},
   "outputs": [
    {
     "name": "stdout",
     "output_type": "stream",
     "text": [
      "Key for education levels\n",
      "------------------------\n",
      "1: Some high school\n",
      "2: High school diploma / GED\n",
      "3: Some college\n",
      "4: College degree\n",
      "5: Professional degree\n",
      "6: Master's degree\n",
      "7: Ph.D.\n",
      "8: Associate's degree\n",
      "99: Other\n",
      "\n",
      "Filtered out 2745 subtests \n",
      "\n"
     ]
    }
   ],
   "source": [
    "# Display the meaning of the numeric education levels\n",
    "ncpt.get_education_info()\n",
    "\n",
    "# Filter out participants who did not complete the test battery\n",
    "filt_df, exclude_df = ncpt.filter_by_completeness()\n",
    "print(f'Filtered out {len(exclude_df)} subtests \\n')"
   ]
  }
 ],
 "metadata": {
  "kernelspec": {
   "display_name": "Python 3 (ipykernel)",
   "language": "python",
   "name": "python3"
  },
  "language_info": {
   "codemirror_mode": {
    "name": "ipython",
    "version": 3
   },
   "file_extension": ".py",
   "mimetype": "text/x-python",
   "name": "python",
   "nbconvert_exporter": "python",
   "pygments_lexer": "ipython3",
   "version": "3.9.7"
  }
 },
 "nbformat": 4,
 "nbformat_minor": 2
}
