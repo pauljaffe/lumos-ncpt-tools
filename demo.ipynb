{
 "cells": [
  {
   "cell_type": "markdown",
   "metadata": {},
   "source": [
    "# Demo some of the functionality of lumos-ncpt-tools\n",
    "\n",
    "### 1) Load up some data! \n",
    "- Instantiate a NCPT class object with data from one test battery\n",
    "    - The demo data is all data from NCPT battery 26\n",
    "- Display some summary info on the dataset and subtests\n",
    "\n",
    "### 2) Process and plot the scores \n",
    "- Filter out outlier raw scores\n",
    "- Plot the raw score distributions before and after outlier removal\n",
    "- Lookup normalized scores using the demographics-reweighted rank INT method\n",
    "    - Plot the normalized scores and the Grand Index (composite score)\n",
    "- Plot the Grand Index vs. age\n",
    "\n",
    "### 3) Miscellaneous \n",
    "- Show the meaning of the numeric education levels \n",
    "- Filter out participants who did not complete the test battery"
   ]
  },
  {
   "cell_type": "code",
   "execution_count": 1,
   "metadata": {},
   "outputs": [],
   "source": [
    "import numpy as np\n",
    "import pandas as pd\n",
    "import seaborn as sns\n",
    "import matplotlib.pyplot as plt\n",
    "\n",
    "from lumos_ncpt_tools.ncpt import NCPT\n",
    "from lumos_ncpt_tools.utils import load_data"
   ]
  },
  {
   "cell_type": "markdown",
   "metadata": {},
   "source": [
    "## 1) Load up some data"
   ]
  },
  {
   "cell_type": "code",
   "execution_count": 2,
   "metadata": {},
   "outputs": [
    {
     "name": "stdout",
     "output_type": "stream",
     "text": [
      "Data summary\n",
      "------------\n",
      "N users: 2400\n",
      "N tests: 2400\n",
      "N subtests: 23689\n",
      "DataFrame columns: ['user_id', 'age', 'gender', 'education_level', 'country', 'test_run_id', 'battery_id', 'specific_subtest_id', 'raw_score', 'rank_INT_normed_score', 'grand_index']\n",
      "\n",
      "Subtest information\n",
      "-------------------\n",
      "Subtest ID 27: Divided visual attention, v1, N scores = 2040\n",
      "Subtest ID 28: Forward memory span, v1, N scores = 2218\n",
      "Subtest ID 29: Arithmetic reasoning, v1, N scores = 2272\n",
      "Subtest ID 30: Grammatical reasoning, v1, N scores = 2091\n",
      "Subtest ID 32: Go/no-go, v2, N scores = 2026\n",
      "Subtest ID 33: Reverse memory span, v1, N scores = 2121\n",
      "Subtest ID 36: Verbal list learning, v1, N scores = 2400\n",
      "Subtest ID 37: Delayed verbal list learning, v1, N scores = 1905\n",
      "Subtest ID 38: Digit symbol coding, v1, N scores = 1995\n",
      "Subtest ID 39: Trail making part A, v1, N scores = 2326\n",
      "Subtest ID 40: Trail making part B, v1, N scores = 2295\n",
      "\n"
     ]
    },
    {
     "data": {
      "text/html": [
       "<div>\n",
       "<style scoped>\n",
       "    .dataframe tbody tr th:only-of-type {\n",
       "        vertical-align: middle;\n",
       "    }\n",
       "\n",
       "    .dataframe tbody tr th {\n",
       "        vertical-align: top;\n",
       "    }\n",
       "\n",
       "    .dataframe thead th {\n",
       "        text-align: right;\n",
       "    }\n",
       "</style>\n",
       "<table border=\"1\" class=\"dataframe\">\n",
       "  <thead>\n",
       "    <tr style=\"text-align: right;\">\n",
       "      <th></th>\n",
       "      <th>user_id</th>\n",
       "      <th>age</th>\n",
       "      <th>gender</th>\n",
       "      <th>education_level</th>\n",
       "      <th>country</th>\n",
       "      <th>test_run_id</th>\n",
       "      <th>battery_id</th>\n",
       "      <th>specific_subtest_id</th>\n",
       "      <th>raw_score</th>\n",
       "      <th>rank_INT_normed_score</th>\n",
       "      <th>grand_index</th>\n",
       "    </tr>\n",
       "  </thead>\n",
       "  <tbody>\n",
       "    <tr>\n",
       "      <th>0</th>\n",
       "      <td>223</td>\n",
       "      <td>73.0</td>\n",
       "      <td>NaN</td>\n",
       "      <td>3.0</td>\n",
       "      <td>US</td>\n",
       "      <td>228736</td>\n",
       "      <td>26</td>\n",
       "      <td>36</td>\n",
       "      <td>10.0</td>\n",
       "      <td>99.679070</td>\n",
       "      <td>95.118595</td>\n",
       "    </tr>\n",
       "    <tr>\n",
       "      <th>1</th>\n",
       "      <td>223</td>\n",
       "      <td>73.0</td>\n",
       "      <td>NaN</td>\n",
       "      <td>3.0</td>\n",
       "      <td>US</td>\n",
       "      <td>228736</td>\n",
       "      <td>26</td>\n",
       "      <td>39</td>\n",
       "      <td>41.0</td>\n",
       "      <td>74.536174</td>\n",
       "      <td>95.118595</td>\n",
       "    </tr>\n",
       "    <tr>\n",
       "      <th>2</th>\n",
       "      <td>223</td>\n",
       "      <td>73.0</td>\n",
       "      <td>NaN</td>\n",
       "      <td>3.0</td>\n",
       "      <td>US</td>\n",
       "      <td>228736</td>\n",
       "      <td>26</td>\n",
       "      <td>40</td>\n",
       "      <td>39.0</td>\n",
       "      <td>98.260855</td>\n",
       "      <td>95.118595</td>\n",
       "    </tr>\n",
       "    <tr>\n",
       "      <th>3</th>\n",
       "      <td>223</td>\n",
       "      <td>73.0</td>\n",
       "      <td>NaN</td>\n",
       "      <td>3.0</td>\n",
       "      <td>US</td>\n",
       "      <td>228736</td>\n",
       "      <td>26</td>\n",
       "      <td>29</td>\n",
       "      <td>15.0</td>\n",
       "      <td>102.249377</td>\n",
       "      <td>95.118595</td>\n",
       "    </tr>\n",
       "    <tr>\n",
       "      <th>4</th>\n",
       "      <td>223</td>\n",
       "      <td>73.0</td>\n",
       "      <td>NaN</td>\n",
       "      <td>3.0</td>\n",
       "      <td>US</td>\n",
       "      <td>228736</td>\n",
       "      <td>26</td>\n",
       "      <td>28</td>\n",
       "      <td>6.0</td>\n",
       "      <td>106.043389</td>\n",
       "      <td>95.118595</td>\n",
       "    </tr>\n",
       "    <tr>\n",
       "      <th>5</th>\n",
       "      <td>223</td>\n",
       "      <td>73.0</td>\n",
       "      <td>NaN</td>\n",
       "      <td>3.0</td>\n",
       "      <td>US</td>\n",
       "      <td>228736</td>\n",
       "      <td>26</td>\n",
       "      <td>33</td>\n",
       "      <td>6.0</td>\n",
       "      <td>112.860886</td>\n",
       "      <td>95.118595</td>\n",
       "    </tr>\n",
       "    <tr>\n",
       "      <th>6</th>\n",
       "      <td>223</td>\n",
       "      <td>73.0</td>\n",
       "      <td>NaN</td>\n",
       "      <td>3.0</td>\n",
       "      <td>US</td>\n",
       "      <td>228736</td>\n",
       "      <td>26</td>\n",
       "      <td>30</td>\n",
       "      <td>2.0</td>\n",
       "      <td>75.120143</td>\n",
       "      <td>95.118595</td>\n",
       "    </tr>\n",
       "    <tr>\n",
       "      <th>7</th>\n",
       "      <td>223</td>\n",
       "      <td>73.0</td>\n",
       "      <td>NaN</td>\n",
       "      <td>3.0</td>\n",
       "      <td>US</td>\n",
       "      <td>228736</td>\n",
       "      <td>26</td>\n",
       "      <td>27</td>\n",
       "      <td>8.0</td>\n",
       "      <td>97.498246</td>\n",
       "      <td>95.118595</td>\n",
       "    </tr>\n",
       "    <tr>\n",
       "      <th>8</th>\n",
       "      <td>223</td>\n",
       "      <td>73.0</td>\n",
       "      <td>NaN</td>\n",
       "      <td>3.0</td>\n",
       "      <td>US</td>\n",
       "      <td>228736</td>\n",
       "      <td>26</td>\n",
       "      <td>32</td>\n",
       "      <td>465.0</td>\n",
       "      <td>95.551138</td>\n",
       "      <td>95.118595</td>\n",
       "    </tr>\n",
       "    <tr>\n",
       "      <th>9</th>\n",
       "      <td>223</td>\n",
       "      <td>73.0</td>\n",
       "      <td>NaN</td>\n",
       "      <td>3.0</td>\n",
       "      <td>US</td>\n",
       "      <td>228736</td>\n",
       "      <td>26</td>\n",
       "      <td>38</td>\n",
       "      <td>33.0</td>\n",
       "      <td>82.537573</td>\n",
       "      <td>95.118595</td>\n",
       "    </tr>\n",
       "  </tbody>\n",
       "</table>\n",
       "</div>"
      ],
      "text/plain": [
       "   user_id   age gender  education_level country  test_run_id  battery_id  \\\n",
       "0      223  73.0    NaN              3.0      US       228736          26   \n",
       "1      223  73.0    NaN              3.0      US       228736          26   \n",
       "2      223  73.0    NaN              3.0      US       228736          26   \n",
       "3      223  73.0    NaN              3.0      US       228736          26   \n",
       "4      223  73.0    NaN              3.0      US       228736          26   \n",
       "5      223  73.0    NaN              3.0      US       228736          26   \n",
       "6      223  73.0    NaN              3.0      US       228736          26   \n",
       "7      223  73.0    NaN              3.0      US       228736          26   \n",
       "8      223  73.0    NaN              3.0      US       228736          26   \n",
       "9      223  73.0    NaN              3.0      US       228736          26   \n",
       "\n",
       "   specific_subtest_id  raw_score  rank_INT_normed_score  grand_index  \n",
       "0                   36       10.0              99.679070    95.118595  \n",
       "1                   39       41.0              74.536174    95.118595  \n",
       "2                   40       39.0              98.260855    95.118595  \n",
       "3                   29       15.0             102.249377    95.118595  \n",
       "4                   28        6.0             106.043389    95.118595  \n",
       "5                   33        6.0             112.860886    95.118595  \n",
       "6                   30        2.0              75.120143    95.118595  \n",
       "7                   27        8.0              97.498246    95.118595  \n",
       "8                   32      465.0              95.551138    95.118595  \n",
       "9                   38       33.0              82.537573    95.118595  "
      ]
     },
     "execution_count": 2,
     "metadata": {},
     "output_type": "execute_result"
    }
   ],
   "source": [
    "# Load all of the data from one NCPT battery (demo_data.csv = battery 26)\n",
    "data_directory = './'\n",
    "data_fn = 'demo_data.csv'\n",
    "df = load_data(data_directory, data_fn)\n",
    "\n",
    "# Instantiate a NCPT object, display some basic info\n",
    "ncpt = NCPT(df)\n",
    "del df\n",
    "ncpt.report_stats()\n",
    "ncpt.get_subtest_info()\n",
    "ncpt.df.head(10)"
   ]
  },
  {
   "cell_type": "markdown",
   "metadata": {},
   "source": [
    "## 2) Process and plot the scores"
   ]
  },
  {
   "cell_type": "markdown",
   "metadata": {},
   "source": [
    "### Check for outliers"
   ]
  },
  {
   "cell_type": "code",
   "execution_count": 3,
   "metadata": {},
   "outputs": [
    {
     "name": "stdout",
     "output_type": "stream",
     "text": [
      "Subtest ID 33: N outliers = 1\n"
     ]
    },
    {
     "data": {
      "image/png": "[encoded data removed]",
      "text/plain": [
       "<Figure size 864x864 with 2 Axes>"
      ]
     },
     "metadata": {
      "needs_background": "light"
     },
     "output_type": "display_data"
    }
   ],
   "source": [
    "# Remove outlier raw scores using the median absolute deviation (MAD) method\n",
    "# Note: Depending on the intended application, this may or may not be a sensible thing to do.\n",
    "outlier_threshold = 5 # fairly conservative threshold\n",
    "outlier_method = 'MAD'\n",
    "n_bins = 10\n",
    "outlier_subtests = [33] # Reverse memory span v1\n",
    "zoom_ylim = [0, 20]\n",
    "filt_df = ncpt.filter_outliers_by_subtest('raw_score', outlier_threshold, \n",
    "                                          outlier_subtests, method=outlier_method)\n",
    "\n",
    "# Plot the raw score distributions before and after outlier removal\n",
    "for sub in outlier_subtests:\n",
    "    orig_sub_df = ncpt.df.query('specific_subtest_id == @sub')\n",
    "    orig_sub_df = orig_sub_df.assign(outlier_status='Original')\n",
    "    filt_sub_df = filt_df.query('specific_subtest_id == @sub')\n",
    "    filt_sub_df = filt_sub_df.assign(outlier_status='No outliers')\n",
    "    plot_df = pd.concat([orig_sub_df, filt_sub_df])\n",
    "    plot_df.reset_index(drop=True, inplace=True)\n",
    "    fig, axes = plt.subplots(2, 1, figsize=(12, 12))\n",
    "    for ax_ind, ax in enumerate(axes):\n",
    "        sns.histplot(plot_df, x='raw_score', hue='outlier_status', multiple='dodge', \n",
    "                     ax=ax)\n",
    "        ax.set_xlabel('Raw score')\n",
    "        ax.set_ylabel('Count')\n",
    "        if ax_ind == 1:\n",
    "            ax.set_ylim(zoom_ylim)\n",
    "            ax.set_title(f'Subtest {sub} zoom')\n",
    "        else:\n",
    "            ax.set_title(f'Subtest {sub}')\n",
    "    plt.show()\n"
   ]
  },
  {
   "cell_type": "markdown",
   "metadata": {},
   "source": [
    "### Look up normalized scores"
   ]
  },
  {
   "cell_type": "code",
   "execution_count": 4,
   "metadata": {},
   "outputs": [
    {
     "name": "stdout",
     "output_type": "stream",
     "text": [
      "Looking up norms...\n",
      "Done! Added normalized scores in column census_rank_INT_normed_score\n",
      "---------------------------\n",
      "Subtest 29\n",
      "Mean of normed scores: 106.54855512037734\n",
      "Std. dev. of normed scores: 14.890089964627963\n"
     ]
    },
    {
     "data": {
      "image/png": "[encoded data removed]",
      "text/plain": [
       "<Figure size 432x432 with 1 Axes>"
      ]
     },
     "metadata": {
      "needs_background": "light"
     },
     "output_type": "display_data"
    },
    {
     "data": {
      "image/png": "[encoded data removed]",
      "text/plain": [
       "<Figure size 432x432 with 1 Axes>"
      ]
     },
     "metadata": {
      "needs_background": "light"
     },
     "output_type": "display_data"
    },
    {
     "name": "stdout",
     "output_type": "stream",
     "text": [
      "Mean Grand Index: 106.5189106302107\n",
      "Std. dev. of Grand Index: 13.968754068310234\n"
     ]
    }
   ],
   "source": [
    "# Lookup normalized scores using the 'census_rank_INT' method (see paper for details)\n",
    "# Note that by default, scores normalized using the 'rank_INT' method are included in the dataset by default (not shown)\n",
    "# Also plot the grand index\n",
    "norm_method = 'census_rank_INT'\n",
    "score_col = f'{norm_method}_normed_score'\n",
    "subtests_to_plot = [29]\n",
    "\n",
    "ncpt.lookup_normed_scores(norm_method)\n",
    "print('---------------------------')\n",
    "\n",
    "# Plot the normalized score distributions\n",
    "subtests = ncpt.df['specific_subtest_id'].unique()\n",
    "for sub in subtests_to_plot:\n",
    "    sub_df = ncpt.df.query('specific_subtest_id == @sub')\n",
    "    print(f'Subtest {sub}')\n",
    "    print(f\"Mean of normed scores: {sub_df[score_col].mean()}\")\n",
    "    print(f\"Std. dev. of normed scores: {sub_df[score_col].std()}\")\n",
    "    fig, axes = plt.subplots(1, 1, figsize=(6, 6))\n",
    "    sns.histplot(sub_df[score_col], color='b', kde=False, ax=axes)\n",
    "    axes.set_title(f'Subtest {sub}')\n",
    "    plt.show()\n",
    "                 \n",
    "# Plot the distribution of the Grand Index\n",
    "GI_df = ncpt.df.drop_duplicates(subset=['test_run_id'])\n",
    "fig, axes = plt.subplots(1, 1, figsize=(6, 6))\n",
    "sns.histplot(GI_df['grand_index'], color='b', kde=False, ax=axes)\n",
    "axes.set_title('Grand Index')\n",
    "plt.show()\n",
    "\n",
    "# Stats\n",
    "print(f\"Mean Grand Index: {GI_df['grand_index'].mean()}\")\n",
    "print(f\"Std. dev. of Grand Index: {GI_df['grand_index'].std()}\")"
   ]
  },
  {
   "cell_type": "markdown",
   "metadata": {},
   "source": [
    "### Plot the Grand Index vs. age\n",
    "- Red line is best linear fit"
   ]
  },
  {
   "cell_type": "code",
   "execution_count": 5,
   "metadata": {},
   "outputs": [
    {
     "data": {
      "image/png": "[encoded data removed]",
      "text/plain": [
       "<Figure size 576x576 with 1 Axes>"
      ]
     },
     "metadata": {
      "needs_background": "light"
     },
     "output_type": "display_data"
    }
   ],
   "source": [
    "fig, axes = plt.subplots(1, 1, figsize=(8, 8))\n",
    "fontsize = 12\n",
    "sns.regplot(x='age', y='grand_index', data=GI_df, ax=axes, marker='.', \n",
    "            scatter_kws={'s': 10}, line_kws={'color': 'r'})\n",
    "axes.set_xlabel('Age (years)', fontsize=fontsize)\n",
    "axes.set_ylabel('Grand Index', fontsize=fontsize)\n",
    "axes.set_xticks([20, 30, 40, 50, 60, 70, 80, 90])\n",
    "axes.set_xticklabels(['20', '30', '40', '50', '60', '70', '80', '90+'])\n",
    "plt.show()"
   ]
  },
  {
   "cell_type": "markdown",
   "metadata": {},
   "source": [
    "## 3) Miscellaneous"
   ]
  },
  {
   "cell_type": "code",
   "execution_count": 6,
   "metadata": {},
   "outputs": [
    {
     "name": "stdout",
     "output_type": "stream",
     "text": [
      "Key for education levels\n",
      "------------------------\n",
      "1: Some high school\n",
      "2: High school diploma / GED\n",
      "3: Some college\n",
      "4: College degree\n",
      "5: Professional degree\n",
      "6: Master's degree\n",
      "7: Ph.D.\n",
      "8: Associate's degree\n",
      "99: Other\n",
      "\n",
      "Filtered out 2745 subtests \n",
      "\n"
     ]
    }
   ],
   "source": [
    "# Display the meaning of the numeric education levels\n",
    "ncpt.get_education_info()\n",
    "\n",
    "# Filter out participants who did not complete the test battery\n",
    "filt_df, exclude_df = ncpt.filter_by_completeness()\n",
    "print(f'Filtered out {len(exclude_df)} subtests \\n')"
   ]
  }
 ],
 "metadata": {
  "kernelspec": {
   "display_name": "Python 3 (ipykernel)",
   "language": "python",
   "name": "python3"
  },
  "language_info": {
   "codemirror_mode": {
    "name": "ipython",
    "version": 3
   },
   "file_extension": ".py",
   "mimetype": "text/x-python",
   "name": "python",
   "nbconvert_exporter": "python",
   "pygments_lexer": "ipython3",
   "version": "3.9.7"
  }
 },
 "nbformat": 4,
 "nbformat_minor": 2
}
